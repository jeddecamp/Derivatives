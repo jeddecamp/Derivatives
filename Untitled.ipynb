{
 "cells": [
  {
   "cell_type": "markdown",
   "metadata": {},
   "source": [
    "##Financial Derivatives; Pricing and Risk Management\n",
    "\n",
    "\n",
    "\tDerivatives are among the oldest financial instruments we have. They are used not only in financial markets, but there exists derivatives on real assets and they are used by corporations, asset managers, governmental enterprises and so forth. The author gives a number of different ways derivatives are used in the world today.\n",
    "\tThe first is in hedging and risk-transfer. This is the process by which risk is transferred from the shareholders of one firm to the shareholders of another firm, or several firms. Derivatives help a firm transfer specific risks such as firm specific risk, interest rate risk or default risk.\n",
    "\tPrice discovery is essentially how new information is reflected in prices. Derivatives often take in this new information into their prices before the information reaches the underlying security itself. Commoditization is the driving factor behind price discovery, which is the “process by which bilaterally negotiated, customized contracts evolve toward organized financial markets.” Not all contracts, however, become customized. \n",
    "\tForwards and futures in particular, play a large role in rationing scarcity over time in the underlying assets on which they are based. The author goes in to much detail about how forwards and futures are traded and the benefits and draw-backs to both the buyer and seller of entering into these contracts. \n",
    "\tDerivatives can also help firms that are dealing with real assets. These derivatives can solve a firms problem of information asymmetries, credit constraints, and limited access to affordable external financing. \n"
   ]
  }
 ],
 "metadata": {
  "kernelspec": {
   "display_name": "Python [Root]",
   "language": "python",
   "name": "Python [Root]"
  },
  "language_info": {
   "codemirror_mode": {
    "name": "ipython",
    "version": 3
   },
   "file_extension": ".py",
   "mimetype": "text/x-python",
   "name": "python",
   "nbconvert_exporter": "python",
   "pygments_lexer": "ipython3",
   "version": "3.5.2"
  }
 },
 "nbformat": 4,
 "nbformat_minor": 0
}
