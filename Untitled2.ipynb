{
 "cells": [
  {
   "cell_type": "markdown",
   "metadata": {},
   "source": [
    "##Economic Theory and Equilibrium\n",
    " \n",
    "\n",
    "\tThe author begins by giving 3 examples of economic ideas that depend on “equilibrium”; 1) The prices of risky assets and cash flows depends on equilibrium 2) Entry and exit into markets depends on equilibrium 3) A firm’s ability to make economic profit depends on equilibrium. Those outside the world of economics see economics as abstract and not applicable to everyday business concepts. Even though this clearly isn’t true, the author recognizes why people feel this way; that is, because economics has become so mathematical, that it excludes those without a knowledge of mathematics from understanding these relevant ideas. Many of the great economists in the past, were actually not economists at all. They were politicians, lawyers, business men, etc… The study of economics was more an appendage to other fields of human endeavor, rather than a field in itself. The only difference between economics and religion, the author claims, is that the layman has access the the same sources and resources that the pastor does, whereas, in economics, the layman is kept without, because they don’t understand the “language” of economics.\n",
    "\tThe author makes note of many economists who were part of what is called, the “Neo-classical” period. The underlying idea of this period is that, “market values of assets and factors of production were determined by interactions between supply and demand ‘at the margin.’” Some time after the “neo-classical” period began, another school of thought emerged, called the “Austrian critique”. A key difference of the Austrian school of thought was that mathematics was not crucial to the study of economics. They were quickly marginalized for this. \n",
    "\tA man named Sir John Hicks was one of the first and foremost to merge the ideas of neo-classical, and Austrian economics. He called himself a “neo-Austrian”.  This man was rooted in neoclassical tradition, but adopted the Austrian way of thought. His merger of these two ways of thinking is evident in his work on equilibrium, heterogeneous expectations and the role information played in markets.\n",
    "\t\n"
   ]
  }
 ],
 "metadata": {
  "kernelspec": {
   "display_name": "Python [Root]",
   "language": "python",
   "name": "Python [Root]"
  },
  "language_info": {
   "codemirror_mode": {
    "name": "ipython",
    "version": 3
   },
   "file_extension": ".py",
   "mimetype": "text/x-python",
   "name": "python",
   "nbconvert_exporter": "python",
   "pygments_lexer": "ipython3",
   "version": "3.5.2"
  }
 },
 "nbformat": 4,
 "nbformat_minor": 0
}
