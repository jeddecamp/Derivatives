{
 "cells": [
  {
   "cell_type": "markdown",
   "metadata": {},
   "source": [
    "##The Use of Knowledge In Society\n",
    "\n",
    "\n",
    "\n",
    "\tHayek asks what problem we are trying to solve when we set up an economic order. He argues that when we have all knowledge of means, consumer preferences and have all relevant information, we can solve the problem mathematically. Given my knowledge of economics, I believe Hayek is saying that under these assumptions, the problem comes down to an optimization problem, where the scientist is maximizing a consumer’s utility function (which comes from consumer preferences) subject to some constraint (this could be a budget constraint). The problem with this idea (even though it is a good start to finding meaningful solutions) is that a single scientist does not possess all the necessary knowledge, namely, each individual’s preferences in the market. A single scientist also does not possess knowledge of the “given” resources. \n",
    "\tThis “problem” is at the core of economic planning. Hayek argues that planning is certainly necessary, but the question is, who should do the planning? Should it be a central planner, or should the market do the planning? It appears that the middle ground of these two, is delegating planning to organized industries, “or in other words, monopoly.” One might assume that the “scientists” should be the ones planning, because they have the most relevant information of any single “group” of people, but if they are made solely responsible, there is still much information missing. In addition to scientific knowledge, which is undoubtedly important, there is knowledge that only comes from hands-on experience. Regardless of how intelligent a mathmetician is about consumption, and interest rates, and optimization functions, they may have no idea how something “non-scientific” affects markets. The example given is of knowing how to put someone to use on a particular machine. This involves human capital, which is difficult to measure.\n",
    "\tIn conclusion, Hayek argues that it is impossible to give all knowledge to a single planner. He argues that there must be a “market process” in which markets are maintained and prices are set by the aggregate of all participants. \n"
   ]
  }
 ],
 "metadata": {
  "kernelspec": {
   "display_name": "Python [Root]",
   "language": "python",
   "name": "Python [Root]"
  },
  "language_info": {
   "codemirror_mode": {
    "name": "ipython",
    "version": 3
   },
   "file_extension": ".py",
   "mimetype": "text/x-python",
   "name": "python",
   "nbconvert_exporter": "python",
   "pygments_lexer": "ipython3",
   "version": "3.5.2"
  }
 },
 "nbformat": 4,
 "nbformat_minor": 0
}
